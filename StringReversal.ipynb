{
 "cells": [
  {
   "cell_type": "markdown",
   "metadata": {},
   "source": [
    "String reversal word-wise and letter-wise"
   ]
  },
  {
   "cell_type": "code",
   "execution_count": 12,
   "metadata": {},
   "outputs": [],
   "source": [
    "def reverse_words(input):\n",
    "    words = input.split()\n",
    "    reversed_words = ' '.join(reversed(words))\n",
    "    return reversed_words"
   ]
  },
  {
   "cell_type": "code",
   "execution_count": 13,
   "metadata": {},
   "outputs": [
    {
     "name": "stdout",
     "output_type": "stream",
     "text": [
      "Original String: Hello World\n",
      "Reversed Word-Wise: World Hello\n"
     ]
    }
   ],
   "source": [
    "# Example\n",
    "original_string = \"Hello World\"\n",
    "result_word_wise = reverse_words(original_string)\n",
    "print(f\"Original String: {original_string}\")\n",
    "print(f\"Reversed Word-Wise: {result_word_wise}\")"
   ]
  },
  {
   "cell_type": "code",
   "execution_count": 14,
   "metadata": {},
   "outputs": [],
   "source": [
    "def reverse_letters(input):\n",
    "    reversed_letters = input[::-1]\n",
    "    return reversed_letters\n"
   ]
  },
  {
   "cell_type": "code",
   "execution_count": 15,
   "metadata": {},
   "outputs": [
    {
     "name": "stdout",
     "output_type": "stream",
     "text": [
      "Original String: Hello World\n",
      "Reversed Letter-Wise: dlroW olleH\n"
     ]
    }
   ],
   "source": [
    "# Example\n",
    "original_str = \"Hello World\"\n",
    "result_letter_wise = reverse_letters(original_str)\n",
    "print(f\"Original String: {original_str}\")\n",
    "print(f\"Reversed Letter-Wise: {result_letter_wise}\")\n"
   ]
  },
  {
   "cell_type": "code",
   "execution_count": null,
   "metadata": {},
   "outputs": [],
   "source": []
  }
 ],
 "metadata": {
  "kernelspec": {
   "display_name": "Python 3",
   "language": "python",
   "name": "python3"
  },
  "language_info": {
   "codemirror_mode": {
    "name": "ipython",
    "version": 3
   },
   "file_extension": ".py",
   "mimetype": "text/x-python",
   "name": "python",
   "nbconvert_exporter": "python",
   "pygments_lexer": "ipython3",
   "version": "3.10.11"
  }
 },
 "nbformat": 4,
 "nbformat_minor": 2
}
