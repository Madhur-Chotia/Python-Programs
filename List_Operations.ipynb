{
 "cells": [
  {
   "cell_type": "markdown",
   "metadata": {},
   "source": [
    "This file shows methods to remove duplicates from list"
   ]
  },
  {
   "cell_type": "code",
   "execution_count": 1,
   "metadata": {},
   "outputs": [
    {
     "name": "stdout",
     "output_type": "stream",
     "text": [
      "[1, 2, 3, 4, 5]\n"
     ]
    }
   ],
   "source": [
    "#using set\n",
    "original_list = [1, 2, 2, 3, 4, 4, 5]\n",
    "unique_list = list(set(original_list))\n",
    "print(unique_list)\n"
   ]
  },
  {
   "cell_type": "code",
   "execution_count": 2,
   "metadata": {},
   "outputs": [
    {
     "name": "stdout",
     "output_type": "stream",
     "text": [
      "[1, 2, 3, 4, 5]\n"
     ]
    }
   ],
   "source": [
    "#using a for loop\n",
    "original_list = [1, 2, 2, 3, 4, 4, 5]\n",
    "unique_list = []\n",
    "for item in original_list:\n",
    "    if item not in unique_list:\n",
    "        unique_list.append(item)\n",
    "print(unique_list)\n"
   ]
  },
  {
   "cell_type": "code",
   "execution_count": 3,
   "metadata": {},
   "outputs": [
    {
     "name": "stdout",
     "output_type": "stream",
     "text": [
      "[1, 2, 3, 4, 5]\n"
     ]
    }
   ],
   "source": [
    "#using dict.fromkeys()\n",
    "original_list = [1, 2, 2, 3, 4, 4, 5]\n",
    "unique_list = list(dict.fromkeys(original_list))\n",
    "print(unique_list)\n"
   ]
  },
  {
   "cell_type": "markdown",
   "metadata": {},
   "source": [
    "Finding Missing Values in List"
   ]
  },
  {
   "cell_type": "code",
   "execution_count": 1,
   "metadata": {},
   "outputs": [],
   "source": [
    "def find_missing_number(lst):\n",
    "    n = len(lst) + 1  # Total number of elements (including the missing one)\n",
    "    expected_sum = n * (n + 1) // 2  # Sum of the arithmetic series 1 + 2 + ... + n\n",
    "\n",
    "    actual_sum = sum(lst)  # Sum of the elements in the list\n",
    "\n",
    "    missing_number = expected_sum - actual_sum\n",
    "    return missing_number"
   ]
  },
  {
   "cell_type": "code",
   "execution_count": 2,
   "metadata": {},
   "outputs": [
    {
     "name": "stdout",
     "output_type": "stream",
     "text": [
      "The missing number is: 5\n"
     ]
    }
   ],
   "source": [
    "numbers = [1, 2, 3, 4, 6, 7, 8]\n",
    "result = find_missing_number(numbers)\n",
    "print(f\"The missing number is: {result}\")\n"
   ]
  },
  {
   "cell_type": "markdown",
   "metadata": {},
   "source": [
    "Finding Common Elements in List"
   ]
  },
  {
   "cell_type": "code",
   "execution_count": 4,
   "metadata": {},
   "outputs": [
    {
     "name": "stdout",
     "output_type": "stream",
     "text": [
      "Common Elements: [5]\n"
     ]
    }
   ],
   "source": [
    "# Example lists\n",
    "list1 = [1, 2, 3, 4, 5]\n",
    "list2 = [3, 4, 5, 6, 7]\n",
    "list3 = [5, 6, 7, 8, 9]\n",
    "\n",
    "# Find common elements\n",
    "common_elements = set(list1).intersection(list2, list3)\n",
    "\n",
    "# Print common elements\n",
    "print(\"Common Elements:\", list(common_elements))\n"
   ]
  },
  {
   "cell_type": "code",
   "execution_count": null,
   "metadata": {},
   "outputs": [],
   "source": [
    "#or\n",
    "\n",
    "print(list(set(list1)&set(list2)&set(list3)))"
   ]
  },
  {
   "cell_type": "markdown",
   "metadata": {},
   "source": [
    "Creating Dictionary out of two lists-"
   ]
  },
  {
   "cell_type": "code",
   "execution_count": null,
   "metadata": {},
   "outputs": [],
   "source": [
    "keys = ['a', 'b', 'c']\n",
    "values = [1, 2, 3]\n",
    "\n",
    "# Dictionary comprehension\n",
    "my_dict = {k: v for k, v in zip(keys, values)}\n",
    "\n",
    "# Print the resulting dictionary\n",
    "print(my_dict)\n"
   ]
  },
  {
   "cell_type": "markdown",
   "metadata": {},
   "source": [
    "Given a list of integers, and an integer N, write a function \"sum to n\" to find all combinations that sum to the value N."
   ]
  },
  {
   "cell_type": "code",
   "execution_count": 4,
   "metadata": {},
   "outputs": [],
   "source": [
    "def sum_to_n(nums, target):\n",
    "    def find_combinations(curr_index, current_sum, path):\n",
    "        if current_sum == target:\n",
    "            result.append(path)\n",
    "            return\n",
    "        if current_sum > target or curr_index == len(nums):\n",
    "            return\n",
    "\n",
    "        # Include the current number in the sum\n",
    "        find_combinations(curr_index + 1, current_sum + nums[curr_index], path + [nums[curr_index]])\n",
    "\n",
    "        # Skip the current number\n",
    "        find_combinations(curr_index + 1, current_sum, path)\n",
    "\n",
    "    result = []\n",
    "    find_combinations(0, 0, [])\n",
    "    return result"
   ]
  },
  {
   "cell_type": "code",
   "execution_count": 5,
   "metadata": {},
   "outputs": [
    {
     "name": "stdout",
     "output_type": "stream",
     "text": [
      "Combinations that sum to 10:\n",
      "[[4, 6], [3, 7]]\n"
     ]
    }
   ],
   "source": [
    "nums_list = [2, 4, 6, 3, 7]\n",
    "target_sum = 10\n",
    "result_combinations = sum_to_n(nums_list, target_sum)\n",
    "\n",
    "print(f\"Combinations that sum to {target_sum}:\")\n",
    "print(result_combinations)"
   ]
  },
  {
   "cell_type": "markdown",
   "metadata": {},
   "source": [
    "Finding difference between Lists"
   ]
  },
  {
   "cell_type": "code",
   "execution_count": 7,
   "metadata": {},
   "outputs": [
    {
     "name": "stdout",
     "output_type": "stream",
     "text": [
      "List 1: [1, 2, 3, 4, 5]\n",
      "List 2: [3, 4, 5, 6, 7]\n",
      "Difference using sets: [1, 2]\n"
     ]
    }
   ],
   "source": [
    "list1 = [1, 2, 3, 4, 5]\n",
    "list2 = [3, 4, 5, 6, 7]\n",
    "\n",
    "# Find the difference between two lists using sets\n",
    "difference_set = set(list1) - set(list2)\n",
    "\n",
    "# Convert the result back to a list if needed\n",
    "difference_list = list(difference_set)\n",
    "\n",
    "# Print the results\n",
    "print(\"List 1:\", list1)\n",
    "print(\"List 2:\", list2)\n",
    "print(\"Difference using sets:\", difference_list)\n"
   ]
  },
  {
   "cell_type": "code",
   "execution_count": 8,
   "metadata": {},
   "outputs": [
    {
     "name": "stdout",
     "output_type": "stream",
     "text": [
      "List 1: [1, 2, 3, 4, 5]\n",
      "List 2: [3, 4, 5, 6, 7]\n",
      "Difference without sets: [1, 2]\n"
     ]
    }
   ],
   "source": [
    "#Or difference between two lists without using sets\n",
    "difference_list = [item for item in list1 if item not in list2]\n",
    "\n",
    "# Print the results\n",
    "print(\"List 1:\", list1)\n",
    "print(\"List 2:\", list2)\n",
    "print(\"Difference without sets:\", difference_list)"
   ]
  },
  {
   "cell_type": "markdown",
   "metadata": {},
   "source": [
    "Sorting string list"
   ]
  },
  {
   "cell_type": "code",
   "execution_count": 22,
   "metadata": {},
   "outputs": [
    {
     "name": "stdout",
     "output_type": "stream",
     "text": [
      "Original List: ['dataset1', 'dataset12', 'dataset7', 'dataset9']\n",
      "Sorted List: ['dataset1', 'dataset7', 'dataset9', 'dataset12']\n"
     ]
    }
   ],
   "source": [
    "data_list = ['dataset1', 'dataset12', 'dataset7', 'dataset9']\n",
    "\n",
    "sorted_list = sorted(data_list, key=lambda x: int(x.split('dataset')[1]))\n",
    "\n",
    "print(\"Original List:\", data_list)\n",
    "print(\"Sorted List:\", sorted_list)\n"
   ]
  },
  {
   "cell_type": "markdown",
   "metadata": {},
   "source": [
    "Sorting Nested List"
   ]
  },
  {
   "cell_type": "code",
   "execution_count": 40,
   "metadata": {},
   "outputs": [
    {
     "name": "stdout",
     "output_type": "stream",
     "text": [
      "Original Nested List: [[1, 4], [6, 7], [9, 5, 4]]\n",
      "Flattened List: [1, 4, 6, 7, 9, 5, 4]\n"
     ]
    }
   ],
   "source": [
    "nested_list = [[1, 4], [6, 7], [9, 5, 4]]\n",
    "\n",
    "flattened_list = [element for sublist in nested_list for element in sublist]\n",
    "\n",
    "print(\"Original Nested List:\", nested_list)\n",
    "print(\"Flattened List:\", flattened_list)\n"
   ]
  },
  {
   "cell_type": "markdown",
   "metadata": {},
   "source": [
    "Creating a nested list of given list on 0"
   ]
  },
  {
   "cell_type": "code",
   "execution_count": 43,
   "metadata": {},
   "outputs": [
    {
     "name": "stdout",
     "output_type": "stream",
     "text": [
      "Input List: [1, 4, 0, 6, 7, 0, 9, 5, 4]\n",
      "Output List: [[1, 4], [6, 7], [9, 5, 4]]\n"
     ]
    }
   ],
   "source": [
    "input_list = [1, 4, 0, 6, 7, 0, 9, 5, 4]\n",
    "\n",
    "output_list = []\n",
    "temp_list = []\n",
    "\n",
    "for item in input_list:\n",
    "    if item != 0:\n",
    "        temp_list.append(item)\n",
    "    elif temp_list:\n",
    "        output_list.append(temp_list)\n",
    "        temp_list = []\n",
    "\n",
    "# Append the remaining sublist if any\n",
    "if temp_list:\n",
    "    output_list.append(temp_list)\n",
    "\n",
    "print(\"Input List:\", input_list)\n",
    "print(\"Output List:\", output_list)\n"
   ]
  },
  {
   "cell_type": "code",
   "execution_count": null,
   "metadata": {},
   "outputs": [],
   "source": []
  }
 ],
 "metadata": {
  "kernelspec": {
   "display_name": "Python 3",
   "language": "python",
   "name": "python3"
  },
  "language_info": {
   "codemirror_mode": {
    "name": "ipython",
    "version": 3
   },
   "file_extension": ".py",
   "mimetype": "text/x-python",
   "name": "python",
   "nbconvert_exporter": "python",
   "pygments_lexer": "ipython3",
   "version": "3.10.11"
  }
 },
 "nbformat": 4,
 "nbformat_minor": 2
}
