{
 "cells": [
  {
   "cell_type": "markdown",
   "metadata": {},
   "source": [
    "program for inserting space between characters of all elements in a NumPy array"
   ]
  },
  {
   "cell_type": "code",
   "execution_count": 6,
   "metadata": {},
   "outputs": [
    {
     "name": "stdout",
     "output_type": "stream",
     "text": [
      "Original Array:\n",
      "['abc' 'def' 'ghi']\n",
      "\n",
      "Array with Spaces:\n",
      "['a b c' 'd e f' 'g h i']\n"
     ]
    }
   ],
   "source": [
    "import numpy as np\n",
    "\n",
    "# Create a NumPy array of strings\n",
    "original_array = np.array(['abc', 'def', 'ghi'])\n",
    "\n",
    "# Insert space between characters in each element\n",
    "array_with_spaces = np.array([' '.join(list(element)) for element in original_array])\n",
    "\n",
    "# Print the results\n",
    "print(\"Original Array:\")\n",
    "print(original_array)\n",
    "\n",
    "print(\"\\nArray with Spaces:\")\n",
    "print(array_with_spaces)\n"
   ]
  },
  {
   "cell_type": "markdown",
   "metadata": {},
   "source": [
    "Repeat each element 5 times in an array"
   ]
  },
  {
   "cell_type": "code",
   "execution_count": 9,
   "metadata": {},
   "outputs": [
    {
     "name": "stdout",
     "output_type": "stream",
     "text": [
      "Original Array:\n",
      "[1 2 3 4 5]\n",
      "\n",
      "Array with Elements Repeated Five Times:\n",
      "[1 1 1 1 1 2 2 2 2 2 3 3 3 3 3 4 4 4 4 4 5 5 5 5 5]\n",
      "\n",
      "Array Repeated in Sequence:\n",
      "[1 2 3 4 5 1 2 3 4 5 1 2 3 4 5 1 2 3 4 5 1 2 3 4 5]\n"
     ]
    }
   ],
   "source": [
    "import numpy as np\n",
    "\n",
    "# Create a NumPy array\n",
    "original_array = np.array([1, 2, 3, 4, 5])\n",
    "\n",
    "# Repeat each element five times\n",
    "repeated_array = np.repeat(original_array, 5)\n",
    "\n",
    "# Repeat sequence\n",
    "sequence_repeated_array = np.tile(original_array, 5)\n",
    "\n",
    "# Print the results\n",
    "print(\"Original Array:\")\n",
    "print(original_array)\n",
    "\n",
    "print(\"\\nArray with Elements Repeated Five Times:\")\n",
    "print(repeated_array)\n",
    "\n",
    "print(\"\\nArray Repeated in Sequence:\")\n",
    "print(sequence_repeated_array)\n"
   ]
  },
  {
   "cell_type": "markdown",
   "metadata": {},
   "source": [
    "Swapping axes in a matrix"
   ]
  },
  {
   "cell_type": "code",
   "execution_count": 27,
   "metadata": {},
   "outputs": [
    {
     "name": "stdout",
     "output_type": "stream",
     "text": [
      "Original 2D Array:\n",
      "[[1 2 3]\n",
      " [4 5 6]]\n",
      "\n",
      "Interchanged 2D Array:\n",
      "[[1 4]\n",
      " [2 5]\n",
      " [3 6]]\n"
     ]
    }
   ],
   "source": [
    "import numpy as np\n",
    "\n",
    "# Create a 2D array\n",
    "original_array = np.array([[1, 2, 3], [4, 5, 6]])\n",
    "\n",
    "# Interchange the axes\n",
    "interchanged_array = np.swapaxes(original_array, 0, 1)\n",
    "\n",
    "# Print the results\n",
    "print(\"Original 2D Array:\")\n",
    "print(original_array)\n",
    "\n",
    "print(\"\\nInterchanged 2D Array:\")\n",
    "print(interchanged_array)\n"
   ]
  },
  {
   "cell_type": "code",
   "execution_count": 28,
   "metadata": {},
   "outputs": [
    {
     "data": {
      "text/plain": [
       "array([[1, 4],\n",
       "       [2, 5],\n",
       "       [3, 6]])"
      ]
     },
     "execution_count": 28,
     "metadata": {},
     "output_type": "execute_result"
    }
   ],
   "source": [
    "#or\n",
    "transposed_array = original_array.T\n",
    "transposed_array"
   ]
  },
  {
   "cell_type": "code",
   "execution_count": null,
   "metadata": {},
   "outputs": [],
   "source": []
  }
 ],
 "metadata": {
  "kernelspec": {
   "display_name": "Python 3",
   "language": "python",
   "name": "python3"
  },
  "language_info": {
   "codemirror_mode": {
    "name": "ipython",
    "version": 3
   },
   "file_extension": ".py",
   "mimetype": "text/x-python",
   "name": "python",
   "nbconvert_exporter": "python",
   "pygments_lexer": "ipython3",
   "version": "3.10.11"
  }
 },
 "nbformat": 4,
 "nbformat_minor": 2
}
